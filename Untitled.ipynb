{
 "cells": [
  {
   "cell_type": "code",
   "execution_count": 42,
   "id": "65590bd0",
   "metadata": {},
   "outputs": [],
   "source": [
    "import pandas as pd\n",
    "import numpy as np\n",
    "from sklearn.impute import KNNImputer\n",
    "\n",
    "import matplotlib.pyplot as plt\n",
    "import seaborn as sns"
   ]
  },
  {
   "cell_type": "code",
   "execution_count": 43,
   "id": "6cf29fab",
   "metadata": {},
   "outputs": [
    {
     "data": {
      "text/html": [
       "<div>\n",
       "<style scoped>\n",
       "    .dataframe tbody tr th:only-of-type {\n",
       "        vertical-align: middle;\n",
       "    }\n",
       "\n",
       "    .dataframe tbody tr th {\n",
       "        vertical-align: top;\n",
       "    }\n",
       "\n",
       "    .dataframe thead th {\n",
       "        text-align: right;\n",
       "    }\n",
       "</style>\n",
       "<table border=\"1\" class=\"dataframe\">\n",
       "  <thead>\n",
       "    <tr style=\"text-align: right;\">\n",
       "      <th></th>\n",
       "      <th>age</th>\n",
       "      <th>Graduated</th>\n",
       "      <th>marital</th>\n",
       "      <th>Profession</th>\n",
       "      <th>defaulter</th>\n",
       "      <th>loan</th>\n",
       "      <th>CustGender</th>\n",
       "      <th>state</th>\n",
       "      <th>Transaction mount</th>\n",
       "      <th>CustAccountBalance</th>\n",
       "      <th>...</th>\n",
       "      <th>Credit amount</th>\n",
       "      <th>Duration</th>\n",
       "      <th>Purpose</th>\n",
       "      <th>Atm Used PM</th>\n",
       "      <th>Credit Card PM</th>\n",
       "      <th>credit card repayment in days</th>\n",
       "      <th>Credit_Limit</th>\n",
       "      <th>Work_Experience</th>\n",
       "      <th>Spending_Score</th>\n",
       "      <th>Family_Size</th>\n",
       "    </tr>\n",
       "  </thead>\n",
       "  <tbody>\n",
       "    <tr>\n",
       "      <th>0</th>\n",
       "      <td>56</td>\n",
       "      <td>No</td>\n",
       "      <td>married</td>\n",
       "      <td>Healthcare</td>\n",
       "      <td>no</td>\n",
       "      <td>no</td>\n",
       "      <td>F</td>\n",
       "      <td>Washington</td>\n",
       "      <td>44</td>\n",
       "      <td>17819.05</td>\n",
       "      <td>...</td>\n",
       "      <td>1169</td>\n",
       "      <td>6</td>\n",
       "      <td>Home Appliances</td>\n",
       "      <td>0</td>\n",
       "      <td>2</td>\n",
       "      <td>14</td>\n",
       "      <td>3760</td>\n",
       "      <td>2.0</td>\n",
       "      <td>Low</td>\n",
       "      <td>5</td>\n",
       "    </tr>\n",
       "    <tr>\n",
       "      <th>1</th>\n",
       "      <td>57</td>\n",
       "      <td>Yes</td>\n",
       "      <td>married</td>\n",
       "      <td>Engineer</td>\n",
       "      <td>unknown</td>\n",
       "      <td>no</td>\n",
       "      <td>M</td>\n",
       "      <td>Washington</td>\n",
       "      <td>84</td>\n",
       "      <td>2270.69</td>\n",
       "      <td>...</td>\n",
       "      <td>5951</td>\n",
       "      <td>48</td>\n",
       "      <td>Home Appliances</td>\n",
       "      <td>5</td>\n",
       "      <td>2</td>\n",
       "      <td>93</td>\n",
       "      <td>6931</td>\n",
       "      <td>NaN</td>\n",
       "      <td>Average</td>\n",
       "      <td>5</td>\n",
       "    </tr>\n",
       "    <tr>\n",
       "      <th>2</th>\n",
       "      <td>37</td>\n",
       "      <td>Yes</td>\n",
       "      <td>married</td>\n",
       "      <td>Engineer</td>\n",
       "      <td>no</td>\n",
       "      <td>no</td>\n",
       "      <td>F</td>\n",
       "      <td>Washington</td>\n",
       "      <td>74</td>\n",
       "      <td>17874.44</td>\n",
       "      <td>...</td>\n",
       "      <td>2096</td>\n",
       "      <td>12</td>\n",
       "      <td>education</td>\n",
       "      <td>0</td>\n",
       "      <td>3</td>\n",
       "      <td>16</td>\n",
       "      <td>19457</td>\n",
       "      <td>6.0</td>\n",
       "      <td>Low</td>\n",
       "      <td>4</td>\n",
       "    </tr>\n",
       "    <tr>\n",
       "      <th>3</th>\n",
       "      <td>40</td>\n",
       "      <td>Yes</td>\n",
       "      <td>married</td>\n",
       "      <td>Lawyer</td>\n",
       "      <td>no</td>\n",
       "      <td>no</td>\n",
       "      <td>F</td>\n",
       "      <td>Illinois</td>\n",
       "      <td>106</td>\n",
       "      <td>866503.21</td>\n",
       "      <td>...</td>\n",
       "      <td>7882</td>\n",
       "      <td>42</td>\n",
       "      <td>Home loan</td>\n",
       "      <td>3</td>\n",
       "      <td>3</td>\n",
       "      <td>76</td>\n",
       "      <td>24003</td>\n",
       "      <td>11.0</td>\n",
       "      <td>High</td>\n",
       "      <td>2</td>\n",
       "    </tr>\n",
       "    <tr>\n",
       "      <th>4</th>\n",
       "      <td>56</td>\n",
       "      <td>Yes</td>\n",
       "      <td>married</td>\n",
       "      <td>Entertainment</td>\n",
       "      <td>no</td>\n",
       "      <td>yes</td>\n",
       "      <td>F</td>\n",
       "      <td>Washington</td>\n",
       "      <td>117</td>\n",
       "      <td>6714.43</td>\n",
       "      <td>...</td>\n",
       "      <td>4870</td>\n",
       "      <td>24</td>\n",
       "      <td>car</td>\n",
       "      <td>3</td>\n",
       "      <td>3</td>\n",
       "      <td>56</td>\n",
       "      <td>30667</td>\n",
       "      <td>NaN</td>\n",
       "      <td>High</td>\n",
       "      <td>2</td>\n",
       "    </tr>\n",
       "  </tbody>\n",
       "</table>\n",
       "<p>5 rows × 25 columns</p>\n",
       "</div>"
      ],
      "text/plain": [
       "   age Graduated  marital     Profession defaulter loan CustGender  \\\n",
       "0   56        No  married     Healthcare        no   no          F   \n",
       "1   57       Yes  married       Engineer   unknown   no          M   \n",
       "2   37       Yes  married       Engineer        no   no          F   \n",
       "3   40       Yes  married         Lawyer        no   no          F   \n",
       "4   56       Yes  married  Entertainment        no  yes          F   \n",
       "\n",
       "        state  Transaction mount  CustAccountBalance  ...  Credit amount  \\\n",
       "0  Washington                 44            17819.05  ...           1169   \n",
       "1  Washington                 84             2270.69  ...           5951   \n",
       "2  Washington                 74            17874.44  ...           2096   \n",
       "3    Illinois                106           866503.21  ...           7882   \n",
       "4  Washington                117             6714.43  ...           4870   \n",
       "\n",
       "   Duration          Purpose Atm Used PM Credit Card PM  \\\n",
       "0         6  Home Appliances           0              2   \n",
       "1        48  Home Appliances           5              2   \n",
       "2        12        education           0              3   \n",
       "3        42        Home loan           3              3   \n",
       "4        24              car           3              3   \n",
       "\n",
       "   credit card repayment in days  Credit_Limit Work_Experience  \\\n",
       "0                             14          3760             2.0   \n",
       "1                             93          6931             NaN   \n",
       "2                             16         19457             6.0   \n",
       "3                             76         24003            11.0   \n",
       "4                             56         30667             NaN   \n",
       "\n",
       "   Spending_Score  Family_Size  \n",
       "0             Low            5  \n",
       "1         Average            5  \n",
       "2             Low            4  \n",
       "3            High            2  \n",
       "4            High            2  \n",
       "\n",
       "[5 rows x 25 columns]"
      ]
     },
     "execution_count": 43,
     "metadata": {},
     "output_type": "execute_result"
    }
   ],
   "source": [
    "df=pd.read_csv(\"cus_seg.csv\")\n",
    "df.head()"
   ]
  },
  {
   "cell_type": "code",
   "execution_count": 44,
   "id": "885167ea",
   "metadata": {},
   "outputs": [
    {
     "data": {
      "text/plain": [
       "<AxesSubplot:xlabel='Profession,age'>"
      ]
     },
     "execution_count": 44,
     "metadata": {},
     "output_type": "execute_result"
    },
    {
     "data": {
      "image/png": "[encoded data removed]",
      "text/plain": [
       "<Figure size 432x288 with 1 Axes>"
      ]
     },
     "metadata": {
      "needs_background": "light"
     },
     "output_type": "display_data"
    }
   ],
   "source": [
    "df.groupby(\"Profession\")[\"age\"].value_counts().plot()"
   ]
  },
  {
   "cell_type": "code",
   "execution_count": 45,
   "id": "5fa327a1",
   "metadata": {},
   "outputs": [
    {
     "data": {
      "text/plain": [
       "<AxesSubplot:>"
      ]
     },
     "execution_count": 45,
     "metadata": {},
     "output_type": "execute_result"
    },
    {
     "data": {
      "image/png": "[encoded data removed]",
      "text/plain": [
       "<Figure size 720x720 with 2 Axes>"
      ]
     },
     "metadata": {
      "needs_background": "light"
     },
     "output_type": "display_data"
    }
   ],
   "source": [
    "plt.figure(figsize=(10,10))\n",
    "sns.heatmap(df.corr(),annot=True)"
   ]
  },
  {
   "cell_type": "code",
   "execution_count": 46,
   "id": "2e826d63",
   "metadata": {},
   "outputs": [
    {
     "name": "stdout",
     "output_type": "stream",
     "text": [
      "<class 'pandas.core.frame.DataFrame'>\n",
      "RangeIndex: 4999 entries, 0 to 4998\n",
      "Data columns (total 25 columns):\n",
      " #   Column                         Non-Null Count  Dtype  \n",
      "---  ------                         --------------  -----  \n",
      " 0   age                            4999 non-null   int64  \n",
      " 1   Graduated                      4953 non-null   object \n",
      " 2   marital                        4999 non-null   object \n",
      " 3   Profession                     4925 non-null   object \n",
      " 4   defaulter                      4999 non-null   object \n",
      " 5   loan                           4999 non-null   object \n",
      " 6   CustGender                     4997 non-null   object \n",
      " 7   state                          4999 non-null   object \n",
      " 8   Transaction mount              4999 non-null   int64  \n",
      " 9   CustAccountBalance             4991 non-null   float64\n",
      " 10  Annual Income                  4999 non-null   int64  \n",
      " 11  Spending Score (1-100)         4953 non-null   float64\n",
      " 12  Housing                        4999 non-null   object \n",
      " 13  Saving accounts                4093 non-null   object \n",
      " 14  Checking account               3042 non-null   object \n",
      " 15  Credit amount                  4999 non-null   int64  \n",
      " 16  Duration                       4999 non-null   int64  \n",
      " 17  Purpose                        4999 non-null   object \n",
      " 18  Atm Used PM                    4999 non-null   int64  \n",
      " 19  Credit Card PM                 4999 non-null   int64  \n",
      " 20  credit card repayment in days  4999 non-null   int64  \n",
      " 21  Credit_Limit                   4999 non-null   int64  \n",
      " 22  Work_Experience                4498 non-null   float64\n",
      " 23  Spending_Score                 4999 non-null   object \n",
      " 24  Family_Size                    4999 non-null   int64  \n",
      "dtypes: float64(3), int64(10), object(12)\n",
      "memory usage: 976.5+ KB\n"
     ]
    }
   ],
   "source": [
    "df.info()\n",
    "\n",
    "#checking for null values and Data type "
   ]
  },
  {
   "cell_type": "code",
   "execution_count": 47,
   "id": "4f5743fc",
   "metadata": {},
   "outputs": [
    {
     "data": {
      "text/plain": [
       "age                                 0\n",
       "Graduated                          46\n",
       "marital                             0\n",
       "Profession                         74\n",
       "defaulter                           0\n",
       "loan                                0\n",
       "CustGender                          2\n",
       "state                               0\n",
       "Transaction mount                   0\n",
       "CustAccountBalance                  8\n",
       "Annual Income                       0\n",
       "Spending Score (1-100)             46\n",
       "Housing                             0\n",
       "Saving accounts                   906\n",
       "Checking account                 1957\n",
       "Credit amount                       0\n",
       "Duration                            0\n",
       "Purpose                             0\n",
       "Atm Used PM                         0\n",
       "Credit Card PM                      0\n",
       "credit card repayment in days       0\n",
       "Credit_Limit                        0\n",
       "Work_Experience                   501\n",
       "Spending_Score                      0\n",
       "Family_Size                         0\n",
       "dtype: int64"
      ]
     },
     "execution_count": 47,
     "metadata": {},
     "output_type": "execute_result"
    }
   ],
   "source": [
    "df.isna().sum()\n",
    "\n",
    "# there a some null values in our data"
   ]
  },
  {
   "cell_type": "code",
   "execution_count": 48,
   "id": "fc0c241a",
   "metadata": {},
   "outputs": [],
   "source": [
    "# Firstly we will convert object data type into float or integer\n"
   ]
  },
  {
   "cell_type": "code",
   "execution_count": 49,
   "id": "750fb9fb",
   "metadata": {},
   "outputs": [
    {
     "data": {
      "text/plain": [
       "Yes    3052\n",
       "No     1901\n",
       "Name: Graduated, dtype: int64"
      ]
     },
     "execution_count": 49,
     "metadata": {},
     "output_type": "execute_result"
    }
   ],
   "source": [
    "df[\"Graduated\"].value_counts()"
   ]
  },
  {
   "cell_type": "code",
   "execution_count": 50,
   "id": "45c403df",
   "metadata": {},
   "outputs": [
    {
     "data": {
      "text/plain": [
       "(4999,)"
      ]
     },
     "execution_count": 50,
     "metadata": {},
     "output_type": "execute_result"
    }
   ],
   "source": [
    "df[\"Graduated\"].shape"
   ]
  },
  {
   "cell_type": "code",
   "execution_count": 51,
   "id": "9bcdea94",
   "metadata": {},
   "outputs": [
    {
     "data": {
      "text/plain": [
       "dtype('O')"
      ]
     },
     "execution_count": 51,
     "metadata": {},
     "output_type": "execute_result"
    }
   ],
   "source": [
    "df[\"Graduated\"].dtypes"
   ]
  },
  {
   "cell_type": "code",
   "execution_count": 52,
   "id": "278df49b",
   "metadata": {},
   "outputs": [],
   "source": [
    "df[\"Graduated\"].replace({\"Yes\":1, \"No\":0},inplace= True)"
   ]
  },
  {
   "cell_type": "code",
   "execution_count": 53,
   "id": "ed3ec35d",
   "metadata": {},
   "outputs": [
    {
     "data": {
      "text/plain": [
       "46"
      ]
     },
     "execution_count": 53,
     "metadata": {},
     "output_type": "execute_result"
    }
   ],
   "source": [
    "df[\"Graduated\"].isna().sum()"
   ]
  },
  {
   "cell_type": "code",
   "execution_count": 54,
   "id": "e6f770e3",
   "metadata": {},
   "outputs": [
    {
     "data": {
      "text/plain": [
       "dtype('float64')"
      ]
     },
     "execution_count": 54,
     "metadata": {},
     "output_type": "execute_result"
    }
   ],
   "source": [
    "df[\"Graduated\"].dtypes"
   ]
  },
  {
   "cell_type": "code",
   "execution_count": 60,
   "id": "20c5bdac",
   "metadata": {},
   "outputs": [],
   "source": [
    "imputer = KNNImputer(n_neighbors=2)\n",
    "df2 = imputer.fit_transform(df[[\"Graduated\"]])"
   ]
  },
  {
   "cell_type": "code",
   "execution_count": 59,
   "id": "92b4b9a2",
   "metadata": {},
   "outputs": [
    {
     "data": {
      "text/plain": [
       "46"
      ]
     },
     "execution_count": 59,
     "metadata": {},
     "output_type": "execute_result"
    }
   ],
   "source": [
    "df[\"Graduated\"].isna().sum()"
   ]
  },
  {
   "cell_type": "code",
   "execution_count": 65,
   "id": "a355f815",
   "metadata": {},
   "outputs": [
    {
     "data": {
      "text/plain": [
       "Graduated    0\n",
       "dtype: int64"
      ]
     },
     "execution_count": 65,
     "metadata": {},
     "output_type": "execute_result"
    }
   ],
   "source": [
    "df3 = pd.DataFrame(df2, columns= [\"Graduated\"])\n",
    "df3.isna().sum()"
   ]
  },
  {
   "cell_type": "code",
   "execution_count": 68,
   "id": "cfcacd95",
   "metadata": {},
   "outputs": [
    {
     "data": {
      "text/plain": [
       "Graduated    0\n",
       "dtype: int64"
      ]
     },
     "execution_count": 68,
     "metadata": {},
     "output_type": "execute_result"
    }
   ],
   "source": [
    "df3.isna().sum()"
   ]
  },
  {
   "cell_type": "code",
   "execution_count": 85,
   "id": "47280785",
   "metadata": {},
   "outputs": [],
   "source": [
    "# df.drop(\"Graduated\", axis = 1, inplace=True)\n",
    "\n",
    "df1 = df.append(df3)"
   ]
  },
  {
   "cell_type": "code",
   "execution_count": 88,
   "id": "5098949c",
   "metadata": {},
   "outputs": [
    {
     "ename": "KeyError",
     "evalue": "'Graduated'",
     "output_type": "error",
     "traceback": [
      "\u001b[1;31m---------------------------------------------------------------------------\u001b[0m",
      "\u001b[1;31mKeyError\u001b[0m                                  Traceback (most recent call last)",
      "\u001b[1;32m~\\anaconda3\\lib\\site-packages\\pandas\\core\\indexes\\base.py\u001b[0m in \u001b[0;36mget_loc\u001b[1;34m(self, key, method, tolerance)\u001b[0m\n\u001b[0;32m   3360\u001b[0m             \u001b[1;32mtry\u001b[0m\u001b[1;33m:\u001b[0m\u001b[1;33m\u001b[0m\u001b[1;33m\u001b[0m\u001b[0m\n\u001b[1;32m-> 3361\u001b[1;33m                 \u001b[1;32mreturn\u001b[0m \u001b[0mself\u001b[0m\u001b[1;33m.\u001b[0m\u001b[0m_engine\u001b[0m\u001b[1;33m.\u001b[0m\u001b[0mget_loc\u001b[0m\u001b[1;33m(\u001b[0m\u001b[0mcasted_key\u001b[0m\u001b[1;33m)\u001b[0m\u001b[1;33m\u001b[0m\u001b[1;33m\u001b[0m\u001b[0m\n\u001b[0m\u001b[0;32m   3362\u001b[0m             \u001b[1;32mexcept\u001b[0m \u001b[0mKeyError\u001b[0m \u001b[1;32mas\u001b[0m \u001b[0merr\u001b[0m\u001b[1;33m:\u001b[0m\u001b[1;33m\u001b[0m\u001b[1;33m\u001b[0m\u001b[0m\n",
      "\u001b[1;32m~\\anaconda3\\lib\\site-packages\\pandas\\_libs\\index.pyx\u001b[0m in \u001b[0;36mpandas._libs.index.IndexEngine.get_loc\u001b[1;34m()\u001b[0m\n",
      "\u001b[1;32m~\\anaconda3\\lib\\site-packages\\pandas\\_libs\\index.pyx\u001b[0m in \u001b[0;36mpandas._libs.index.IndexEngine.get_loc\u001b[1;34m()\u001b[0m\n",
      "\u001b[1;32mpandas\\_libs\\hashtable_class_helper.pxi\u001b[0m in \u001b[0;36mpandas._libs.hashtable.PyObjectHashTable.get_item\u001b[1;34m()\u001b[0m\n",
      "\u001b[1;32mpandas\\_libs\\hashtable_class_helper.pxi\u001b[0m in \u001b[0;36mpandas._libs.hashtable.PyObjectHashTable.get_item\u001b[1;34m()\u001b[0m\n",
      "\u001b[1;31mKeyError\u001b[0m: 'Graduated'",
      "\nThe above exception was the direct cause of the following exception:\n",
      "\u001b[1;31mKeyError\u001b[0m                                  Traceback (most recent call last)",
      "\u001b[1;32m~\\AppData\\Local\\Temp/ipykernel_15548/198968995.py\u001b[0m in \u001b[0;36m<module>\u001b[1;34m\u001b[0m\n\u001b[1;32m----> 1\u001b[1;33m \u001b[0mdf\u001b[0m\u001b[1;33m[\u001b[0m\u001b[1;34m\"Graduated\"\u001b[0m\u001b[1;33m]\u001b[0m\u001b[1;33m.\u001b[0m\u001b[0misna\u001b[0m\u001b[1;33m(\u001b[0m\u001b[1;33m)\u001b[0m\u001b[1;33m.\u001b[0m\u001b[0msum\u001b[0m\u001b[1;33m(\u001b[0m\u001b[1;33m)\u001b[0m\u001b[1;33m\u001b[0m\u001b[1;33m\u001b[0m\u001b[0m\n\u001b[0m",
      "\u001b[1;32m~\\anaconda3\\lib\\site-packages\\pandas\\core\\frame.py\u001b[0m in \u001b[0;36m__getitem__\u001b[1;34m(self, key)\u001b[0m\n\u001b[0;32m   3456\u001b[0m             \u001b[1;32mif\u001b[0m \u001b[0mself\u001b[0m\u001b[1;33m.\u001b[0m\u001b[0mcolumns\u001b[0m\u001b[1;33m.\u001b[0m\u001b[0mnlevels\u001b[0m \u001b[1;33m>\u001b[0m \u001b[1;36m1\u001b[0m\u001b[1;33m:\u001b[0m\u001b[1;33m\u001b[0m\u001b[1;33m\u001b[0m\u001b[0m\n\u001b[0;32m   3457\u001b[0m                 \u001b[1;32mreturn\u001b[0m \u001b[0mself\u001b[0m\u001b[1;33m.\u001b[0m\u001b[0m_getitem_multilevel\u001b[0m\u001b[1;33m(\u001b[0m\u001b[0mkey\u001b[0m\u001b[1;33m)\u001b[0m\u001b[1;33m\u001b[0m\u001b[1;33m\u001b[0m\u001b[0m\n\u001b[1;32m-> 3458\u001b[1;33m             \u001b[0mindexer\u001b[0m \u001b[1;33m=\u001b[0m \u001b[0mself\u001b[0m\u001b[1;33m.\u001b[0m\u001b[0mcolumns\u001b[0m\u001b[1;33m.\u001b[0m\u001b[0mget_loc\u001b[0m\u001b[1;33m(\u001b[0m\u001b[0mkey\u001b[0m\u001b[1;33m)\u001b[0m\u001b[1;33m\u001b[0m\u001b[1;33m\u001b[0m\u001b[0m\n\u001b[0m\u001b[0;32m   3459\u001b[0m             \u001b[1;32mif\u001b[0m \u001b[0mis_integer\u001b[0m\u001b[1;33m(\u001b[0m\u001b[0mindexer\u001b[0m\u001b[1;33m)\u001b[0m\u001b[1;33m:\u001b[0m\u001b[1;33m\u001b[0m\u001b[1;33m\u001b[0m\u001b[0m\n\u001b[0;32m   3460\u001b[0m                 \u001b[0mindexer\u001b[0m \u001b[1;33m=\u001b[0m \u001b[1;33m[\u001b[0m\u001b[0mindexer\u001b[0m\u001b[1;33m]\u001b[0m\u001b[1;33m\u001b[0m\u001b[1;33m\u001b[0m\u001b[0m\n",
      "\u001b[1;32m~\\anaconda3\\lib\\site-packages\\pandas\\core\\indexes\\base.py\u001b[0m in \u001b[0;36mget_loc\u001b[1;34m(self, key, method, tolerance)\u001b[0m\n\u001b[0;32m   3361\u001b[0m                 \u001b[1;32mreturn\u001b[0m \u001b[0mself\u001b[0m\u001b[1;33m.\u001b[0m\u001b[0m_engine\u001b[0m\u001b[1;33m.\u001b[0m\u001b[0mget_loc\u001b[0m\u001b[1;33m(\u001b[0m\u001b[0mcasted_key\u001b[0m\u001b[1;33m)\u001b[0m\u001b[1;33m\u001b[0m\u001b[1;33m\u001b[0m\u001b[0m\n\u001b[0;32m   3362\u001b[0m             \u001b[1;32mexcept\u001b[0m \u001b[0mKeyError\u001b[0m \u001b[1;32mas\u001b[0m \u001b[0merr\u001b[0m\u001b[1;33m:\u001b[0m\u001b[1;33m\u001b[0m\u001b[1;33m\u001b[0m\u001b[0m\n\u001b[1;32m-> 3363\u001b[1;33m                 \u001b[1;32mraise\u001b[0m \u001b[0mKeyError\u001b[0m\u001b[1;33m(\u001b[0m\u001b[0mkey\u001b[0m\u001b[1;33m)\u001b[0m \u001b[1;32mfrom\u001b[0m \u001b[0merr\u001b[0m\u001b[1;33m\u001b[0m\u001b[1;33m\u001b[0m\u001b[0m\n\u001b[0m\u001b[0;32m   3364\u001b[0m \u001b[1;33m\u001b[0m\u001b[0m\n\u001b[0;32m   3365\u001b[0m         \u001b[1;32mif\u001b[0m \u001b[0mis_scalar\u001b[0m\u001b[1;33m(\u001b[0m\u001b[0mkey\u001b[0m\u001b[1;33m)\u001b[0m \u001b[1;32mand\u001b[0m \u001b[0misna\u001b[0m\u001b[1;33m(\u001b[0m\u001b[0mkey\u001b[0m\u001b[1;33m)\u001b[0m \u001b[1;32mand\u001b[0m \u001b[1;32mnot\u001b[0m \u001b[0mself\u001b[0m\u001b[1;33m.\u001b[0m\u001b[0mhasnans\u001b[0m\u001b[1;33m:\u001b[0m\u001b[1;33m\u001b[0m\u001b[1;33m\u001b[0m\u001b[0m\n",
      "\u001b[1;31mKeyError\u001b[0m: 'Graduated'"
     ]
    }
   ],
   "source": [
    "df[\"Graduated\"].isna().sum()"
   ]
  },
  {
   "cell_type": "code",
   "execution_count": 82,
   "id": "919c38bf",
   "metadata": {},
   "outputs": [
    {
     "data": {
      "text/html": [
       "<div>\n",
       "<style scoped>\n",
       "    .dataframe tbody tr th:only-of-type {\n",
       "        vertical-align: middle;\n",
       "    }\n",
       "\n",
       "    .dataframe tbody tr th {\n",
       "        vertical-align: top;\n",
       "    }\n",
       "\n",
       "    .dataframe thead th {\n",
       "        text-align: right;\n",
       "    }\n",
       "</style>\n",
       "<table border=\"1\" class=\"dataframe\">\n",
       "  <thead>\n",
       "    <tr style=\"text-align: right;\">\n",
       "      <th></th>\n",
       "      <th>age</th>\n",
       "      <th>marital</th>\n",
       "      <th>Profession</th>\n",
       "      <th>defaulter</th>\n",
       "      <th>loan</th>\n",
       "      <th>CustGender</th>\n",
       "      <th>state</th>\n",
       "      <th>Transaction mount</th>\n",
       "      <th>CustAccountBalance</th>\n",
       "      <th>Annual Income</th>\n",
       "      <th>...</th>\n",
       "      <th>Duration</th>\n",
       "      <th>Purpose</th>\n",
       "      <th>Atm Used PM</th>\n",
       "      <th>Credit Card PM</th>\n",
       "      <th>credit card repayment in days</th>\n",
       "      <th>Credit_Limit</th>\n",
       "      <th>Work_Experience</th>\n",
       "      <th>Spending_Score</th>\n",
       "      <th>Family_Size</th>\n",
       "      <th>Graduated</th>\n",
       "    </tr>\n",
       "  </thead>\n",
       "  <tbody>\n",
       "    <tr>\n",
       "      <th>0</th>\n",
       "      <td>56.0</td>\n",
       "      <td>married</td>\n",
       "      <td>Healthcare</td>\n",
       "      <td>no</td>\n",
       "      <td>no</td>\n",
       "      <td>F</td>\n",
       "      <td>Washington</td>\n",
       "      <td>44.0</td>\n",
       "      <td>17819.05</td>\n",
       "      <td>51.0</td>\n",
       "      <td>...</td>\n",
       "      <td>6.0</td>\n",
       "      <td>Home Appliances</td>\n",
       "      <td>0.0</td>\n",
       "      <td>2.0</td>\n",
       "      <td>14.0</td>\n",
       "      <td>3760.0</td>\n",
       "      <td>2.0</td>\n",
       "      <td>Low</td>\n",
       "      <td>5.0</td>\n",
       "      <td>NaN</td>\n",
       "    </tr>\n",
       "    <tr>\n",
       "      <th>1</th>\n",
       "      <td>57.0</td>\n",
       "      <td>married</td>\n",
       "      <td>Engineer</td>\n",
       "      <td>unknown</td>\n",
       "      <td>no</td>\n",
       "      <td>M</td>\n",
       "      <td>Washington</td>\n",
       "      <td>84.0</td>\n",
       "      <td>2270.69</td>\n",
       "      <td>100.0</td>\n",
       "      <td>...</td>\n",
       "      <td>48.0</td>\n",
       "      <td>Home Appliances</td>\n",
       "      <td>5.0</td>\n",
       "      <td>2.0</td>\n",
       "      <td>93.0</td>\n",
       "      <td>6931.0</td>\n",
       "      <td>NaN</td>\n",
       "      <td>Average</td>\n",
       "      <td>5.0</td>\n",
       "      <td>NaN</td>\n",
       "    </tr>\n",
       "    <tr>\n",
       "      <th>2</th>\n",
       "      <td>37.0</td>\n",
       "      <td>married</td>\n",
       "      <td>Engineer</td>\n",
       "      <td>no</td>\n",
       "      <td>no</td>\n",
       "      <td>F</td>\n",
       "      <td>Washington</td>\n",
       "      <td>74.0</td>\n",
       "      <td>17874.44</td>\n",
       "      <td>84.0</td>\n",
       "      <td>...</td>\n",
       "      <td>12.0</td>\n",
       "      <td>education</td>\n",
       "      <td>0.0</td>\n",
       "      <td>3.0</td>\n",
       "      <td>16.0</td>\n",
       "      <td>19457.0</td>\n",
       "      <td>6.0</td>\n",
       "      <td>Low</td>\n",
       "      <td>4.0</td>\n",
       "      <td>NaN</td>\n",
       "    </tr>\n",
       "    <tr>\n",
       "      <th>3</th>\n",
       "      <td>40.0</td>\n",
       "      <td>married</td>\n",
       "      <td>Lawyer</td>\n",
       "      <td>no</td>\n",
       "      <td>no</td>\n",
       "      <td>F</td>\n",
       "      <td>Illinois</td>\n",
       "      <td>106.0</td>\n",
       "      <td>866503.21</td>\n",
       "      <td>125.0</td>\n",
       "      <td>...</td>\n",
       "      <td>42.0</td>\n",
       "      <td>Home loan</td>\n",
       "      <td>3.0</td>\n",
       "      <td>3.0</td>\n",
       "      <td>76.0</td>\n",
       "      <td>24003.0</td>\n",
       "      <td>11.0</td>\n",
       "      <td>High</td>\n",
       "      <td>2.0</td>\n",
       "      <td>NaN</td>\n",
       "    </tr>\n",
       "    <tr>\n",
       "      <th>4</th>\n",
       "      <td>56.0</td>\n",
       "      <td>married</td>\n",
       "      <td>Entertainment</td>\n",
       "      <td>no</td>\n",
       "      <td>yes</td>\n",
       "      <td>F</td>\n",
       "      <td>Washington</td>\n",
       "      <td>117.0</td>\n",
       "      <td>6714.43</td>\n",
       "      <td>131.0</td>\n",
       "      <td>...</td>\n",
       "      <td>24.0</td>\n",
       "      <td>car</td>\n",
       "      <td>3.0</td>\n",
       "      <td>3.0</td>\n",
       "      <td>56.0</td>\n",
       "      <td>30667.0</td>\n",
       "      <td>NaN</td>\n",
       "      <td>High</td>\n",
       "      <td>2.0</td>\n",
       "      <td>NaN</td>\n",
       "    </tr>\n",
       "    <tr>\n",
       "      <th>...</th>\n",
       "      <td>...</td>\n",
       "      <td>...</td>\n",
       "      <td>...</td>\n",
       "      <td>...</td>\n",
       "      <td>...</td>\n",
       "      <td>...</td>\n",
       "      <td>...</td>\n",
       "      <td>...</td>\n",
       "      <td>...</td>\n",
       "      <td>...</td>\n",
       "      <td>...</td>\n",
       "      <td>...</td>\n",
       "      <td>...</td>\n",
       "      <td>...</td>\n",
       "      <td>...</td>\n",
       "      <td>...</td>\n",
       "      <td>...</td>\n",
       "      <td>...</td>\n",
       "      <td>...</td>\n",
       "      <td>...</td>\n",
       "      <td>...</td>\n",
       "    </tr>\n",
       "    <tr>\n",
       "      <th>4994</th>\n",
       "      <td>NaN</td>\n",
       "      <td>NaN</td>\n",
       "      <td>NaN</td>\n",
       "      <td>NaN</td>\n",
       "      <td>NaN</td>\n",
       "      <td>NaN</td>\n",
       "      <td>NaN</td>\n",
       "      <td>NaN</td>\n",
       "      <td>NaN</td>\n",
       "      <td>NaN</td>\n",
       "      <td>...</td>\n",
       "      <td>NaN</td>\n",
       "      <td>NaN</td>\n",
       "      <td>NaN</td>\n",
       "      <td>NaN</td>\n",
       "      <td>NaN</td>\n",
       "      <td>NaN</td>\n",
       "      <td>NaN</td>\n",
       "      <td>NaN</td>\n",
       "      <td>NaN</td>\n",
       "      <td>1.0</td>\n",
       "    </tr>\n",
       "    <tr>\n",
       "      <th>4995</th>\n",
       "      <td>NaN</td>\n",
       "      <td>NaN</td>\n",
       "      <td>NaN</td>\n",
       "      <td>NaN</td>\n",
       "      <td>NaN</td>\n",
       "      <td>NaN</td>\n",
       "      <td>NaN</td>\n",
       "      <td>NaN</td>\n",
       "      <td>NaN</td>\n",
       "      <td>NaN</td>\n",
       "      <td>...</td>\n",
       "      <td>NaN</td>\n",
       "      <td>NaN</td>\n",
       "      <td>NaN</td>\n",
       "      <td>NaN</td>\n",
       "      <td>NaN</td>\n",
       "      <td>NaN</td>\n",
       "      <td>NaN</td>\n",
       "      <td>NaN</td>\n",
       "      <td>NaN</td>\n",
       "      <td>0.0</td>\n",
       "    </tr>\n",
       "    <tr>\n",
       "      <th>4996</th>\n",
       "      <td>NaN</td>\n",
       "      <td>NaN</td>\n",
       "      <td>NaN</td>\n",
       "      <td>NaN</td>\n",
       "      <td>NaN</td>\n",
       "      <td>NaN</td>\n",
       "      <td>NaN</td>\n",
       "      <td>NaN</td>\n",
       "      <td>NaN</td>\n",
       "      <td>NaN</td>\n",
       "      <td>...</td>\n",
       "      <td>NaN</td>\n",
       "      <td>NaN</td>\n",
       "      <td>NaN</td>\n",
       "      <td>NaN</td>\n",
       "      <td>NaN</td>\n",
       "      <td>NaN</td>\n",
       "      <td>NaN</td>\n",
       "      <td>NaN</td>\n",
       "      <td>NaN</td>\n",
       "      <td>1.0</td>\n",
       "    </tr>\n",
       "    <tr>\n",
       "      <th>4997</th>\n",
       "      <td>NaN</td>\n",
       "      <td>NaN</td>\n",
       "      <td>NaN</td>\n",
       "      <td>NaN</td>\n",
       "      <td>NaN</td>\n",
       "      <td>NaN</td>\n",
       "      <td>NaN</td>\n",
       "      <td>NaN</td>\n",
       "      <td>NaN</td>\n",
       "      <td>NaN</td>\n",
       "      <td>...</td>\n",
       "      <td>NaN</td>\n",
       "      <td>NaN</td>\n",
       "      <td>NaN</td>\n",
       "      <td>NaN</td>\n",
       "      <td>NaN</td>\n",
       "      <td>NaN</td>\n",
       "      <td>NaN</td>\n",
       "      <td>NaN</td>\n",
       "      <td>NaN</td>\n",
       "      <td>1.0</td>\n",
       "    </tr>\n",
       "    <tr>\n",
       "      <th>4998</th>\n",
       "      <td>NaN</td>\n",
       "      <td>NaN</td>\n",
       "      <td>NaN</td>\n",
       "      <td>NaN</td>\n",
       "      <td>NaN</td>\n",
       "      <td>NaN</td>\n",
       "      <td>NaN</td>\n",
       "      <td>NaN</td>\n",
       "      <td>NaN</td>\n",
       "      <td>NaN</td>\n",
       "      <td>...</td>\n",
       "      <td>NaN</td>\n",
       "      <td>NaN</td>\n",
       "      <td>NaN</td>\n",
       "      <td>NaN</td>\n",
       "      <td>NaN</td>\n",
       "      <td>NaN</td>\n",
       "      <td>NaN</td>\n",
       "      <td>NaN</td>\n",
       "      <td>NaN</td>\n",
       "      <td>1.0</td>\n",
       "    </tr>\n",
       "  </tbody>\n",
       "</table>\n",
       "<p>14997 rows × 25 columns</p>\n",
       "</div>"
      ],
      "text/plain": [
       "       age  marital     Profession defaulter loan CustGender       state  \\\n",
       "0     56.0  married     Healthcare        no   no          F  Washington   \n",
       "1     57.0  married       Engineer   unknown   no          M  Washington   \n",
       "2     37.0  married       Engineer        no   no          F  Washington   \n",
       "3     40.0  married         Lawyer        no   no          F    Illinois   \n",
       "4     56.0  married  Entertainment        no  yes          F  Washington   \n",
       "...    ...      ...            ...       ...  ...        ...         ...   \n",
       "4994   NaN      NaN            NaN       NaN  NaN        NaN         NaN   \n",
       "4995   NaN      NaN            NaN       NaN  NaN        NaN         NaN   \n",
       "4996   NaN      NaN            NaN       NaN  NaN        NaN         NaN   \n",
       "4997   NaN      NaN            NaN       NaN  NaN        NaN         NaN   \n",
       "4998   NaN      NaN            NaN       NaN  NaN        NaN         NaN   \n",
       "\n",
       "      Transaction mount  CustAccountBalance  Annual Income  ...  Duration  \\\n",
       "0                  44.0            17819.05           51.0  ...       6.0   \n",
       "1                  84.0             2270.69          100.0  ...      48.0   \n",
       "2                  74.0            17874.44           84.0  ...      12.0   \n",
       "3                 106.0           866503.21          125.0  ...      42.0   \n",
       "4                 117.0             6714.43          131.0  ...      24.0   \n",
       "...                 ...                 ...            ...  ...       ...   \n",
       "4994                NaN                 NaN            NaN  ...       NaN   \n",
       "4995                NaN                 NaN            NaN  ...       NaN   \n",
       "4996                NaN                 NaN            NaN  ...       NaN   \n",
       "4997                NaN                 NaN            NaN  ...       NaN   \n",
       "4998                NaN                 NaN            NaN  ...       NaN   \n",
       "\n",
       "              Purpose Atm Used PM Credit Card PM  \\\n",
       "0     Home Appliances         0.0            2.0   \n",
       "1     Home Appliances         5.0            2.0   \n",
       "2           education         0.0            3.0   \n",
       "3           Home loan         3.0            3.0   \n",
       "4                 car         3.0            3.0   \n",
       "...               ...         ...            ...   \n",
       "4994              NaN         NaN            NaN   \n",
       "4995              NaN         NaN            NaN   \n",
       "4996              NaN         NaN            NaN   \n",
       "4997              NaN         NaN            NaN   \n",
       "4998              NaN         NaN            NaN   \n",
       "\n",
       "      credit card repayment in days  Credit_Limit Work_Experience  \\\n",
       "0                              14.0        3760.0             2.0   \n",
       "1                              93.0        6931.0             NaN   \n",
       "2                              16.0       19457.0             6.0   \n",
       "3                              76.0       24003.0            11.0   \n",
       "4                              56.0       30667.0             NaN   \n",
       "...                             ...           ...             ...   \n",
       "4994                            NaN           NaN             NaN   \n",
       "4995                            NaN           NaN             NaN   \n",
       "4996                            NaN           NaN             NaN   \n",
       "4997                            NaN           NaN             NaN   \n",
       "4998                            NaN           NaN             NaN   \n",
       "\n",
       "      Spending_Score  Family_Size  Graduated  \n",
       "0                Low          5.0        NaN  \n",
       "1            Average          5.0        NaN  \n",
       "2                Low          4.0        NaN  \n",
       "3               High          2.0        NaN  \n",
       "4               High          2.0        NaN  \n",
       "...              ...          ...        ...  \n",
       "4994             NaN          NaN        1.0  \n",
       "4995             NaN          NaN        0.0  \n",
       "4996             NaN          NaN        1.0  \n",
       "4997             NaN          NaN        1.0  \n",
       "4998             NaN          NaN        1.0  \n",
       "\n",
       "[14997 rows x 25 columns]"
      ]
     },
     "execution_count": 82,
     "metadata": {},
     "output_type": "execute_result"
    }
   ],
   "source": [
    "df"
   ]
  },
  {
   "cell_type": "code",
   "execution_count": null,
   "id": "302aa46c",
   "metadata": {},
   "outputs": [],
   "source": []
  },
  {
   "cell_type": "code",
   "execution_count": null,
   "id": "40126bc6",
   "metadata": {},
   "outputs": [],
   "source": []
  },
  {
   "cell_type": "code",
   "execution_count": null,
   "id": "2bbd821d",
   "metadata": {},
   "outputs": [],
   "source": []
  },
  {
   "cell_type": "code",
   "execution_count": null,
   "id": "4743bbf9",
   "metadata": {},
   "outputs": [],
   "source": []
  },
  {
   "cell_type": "code",
   "execution_count": null,
   "id": "0b56154b",
   "metadata": {},
   "outputs": [],
   "source": []
  },
  {
   "cell_type": "code",
   "execution_count": null,
   "id": "12edc73d",
   "metadata": {},
   "outputs": [],
   "source": []
  },
  {
   "cell_type": "code",
   "execution_count": null,
   "id": "3b5416b9",
   "metadata": {},
   "outputs": [],
   "source": []
  },
  {
   "cell_type": "code",
   "execution_count": null,
   "id": "77b85b83",
   "metadata": {},
   "outputs": [],
   "source": []
  },
  {
   "cell_type": "code",
   "execution_count": null,
   "id": "56e23694",
   "metadata": {},
   "outputs": [],
   "source": []
  },
  {
   "cell_type": "code",
   "execution_count": null,
   "id": "db0c66d6",
   "metadata": {},
   "outputs": [],
   "source": []
  },
  {
   "cell_type": "code",
   "execution_count": null,
   "id": "30dc39e8",
   "metadata": {},
   "outputs": [],
   "source": []
  }
 ],
 "metadata": {
  "kernelspec": {
   "display_name": "Python 3 (ipykernel)",
   "language": "python",
   "name": "python3"
  },
  "language_info": {
   "codemirror_mode": {
    "name": "ipython",
    "version": 3
   },
   "file_extension": ".py",
   "mimetype": "text/x-python",
   "name": "python",
   "nbconvert_exporter": "python",
   "pygments_lexer": "ipython3",
   "version": "3.9.7"
  }
 },
 "nbformat": 4,
 "nbformat_minor": 5
}
